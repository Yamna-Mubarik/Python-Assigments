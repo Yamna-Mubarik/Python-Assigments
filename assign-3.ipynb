{
 "cells": [
  {
   "cell_type": "code",
   "execution_count": 1,
   "metadata": {},
   "outputs": [
    {
     "name": "stdout",
     "output_type": "stream",
     "text": [
      "Enter a value to calculate : 45\n",
      "enter operation you want to perform-\n",
      "Enter a value to calculate : 5\n",
      "subtraction result:  40\n"
     ]
    }
   ],
   "source": [
    "num1=int(input(\"Enter a value to calculate : \"))\n",
    "op = input(\"enter operation you want to perform\")\n",
    "num2=int(input(\"Enter a value to calculate : \"))\n",
    "if op == '+':\n",
    "    num = (num1 +num2 )\n",
    "    print(\"addition result: \" ,num)\n",
    "\n",
    "if op == '-':\n",
    "    num = (num1 -num2 )\n",
    "    print(\"subtraction result: \", num)\n",
    "elif op == '*':\n",
    "    num = (num1 *num2 )\n",
    "    print(\"multiplication result: \", num)\n",
    "elif op == '/':\n",
    "    num = (num1 /num2 )\n",
    "    print(\"division result: \", num)\n",
    "elif op == '^':\n",
    "    num = (num1**num2 )\n",
    "    print(\"power result: \" ,num)\n",
    "else:\n",
    "    print(\"Kindly give correct input\")"
   ]
  },
  {
   "cell_type": "code",
   "execution_count": 33,
   "metadata": {},
   "outputs": [],
   "source": [
    "list1=[1,2,3,4,\"karen\"]\n",
    "for i in list1:\n",
    "    if i is int:\n",
    "        print(i)"
   ]
  },
  {
   "cell_type": "code",
   "execution_count": 34,
   "metadata": {},
   "outputs": [
    {
     "name": "stdout",
     "output_type": "stream",
     "text": [
      "{'name': 'karen', 'age': 20}\n",
      "{'name': 'karen', 'age': 20, 'gender': 'female'}\n"
     ]
    }
   ],
   "source": [
    "dic = {\"name\":\"karen\", \"age\":20}\n",
    "print(dic)\n",
    "dic.update({\"gender\":\"female\"})\n",
    "print(dic)"
   ]
  },
  {
   "cell_type": "code",
   "execution_count": 36,
   "metadata": {},
   "outputs": [
    {
     "name": "stdout",
     "output_type": "stream",
     "text": [
      "258\n"
     ]
    }
   ],
   "source": [
    "my_dic = {d = {1: 10, 2: 20, 3: 30, 4: 40, 5: 50, 6: 60}\n",
    "def is_key_present(x):\n",
    "  if x in d:\n",
    "      print('Key is present in the dictionary')\n",
    "  else:\n",
    "      print('Key is not present in the dictionary')\n",
    "is_key_present(5)\n",
    "is_key_present(9)'marks1':92,'marks2':84,'marks3':82}\n",
    "print(sum(my_dic.values()))"
   ]
  },
  {
   "cell_type": "code",
   "execution_count": 39,
   "metadata": {},
   "outputs": [
    {
     "name": "stdout",
     "output_type": "stream",
     "text": [
      "Key is not present in the dictionary\n",
      "Key is present in the dictionary\n"
     ]
    }
   ],
   "source": [
    "dic = {1: 10, 2: 20, 3: 30, 4: 40, 5: 50, 6: 60}\n",
    "def is_key_present(x):\n",
    "  if x in dic:\n",
    "      print('Key is present in the dictionary')\n",
    "  else:\n",
    "      print('Key is not present in the dictionary')\n",
    "is_key_present(55)\n",
    "is_key_present(1)"
   ]
  },
  {
   "cell_type": "code",
   "execution_count": null,
   "metadata": {},
   "outputs": [],
   "source": []
  }
 ],
 "metadata": {
  "kernelspec": {
   "display_name": "Python 3",
   "language": "python",
   "name": "python3"
  },
  "language_info": {
   "codemirror_mode": {
    "name": "ipython",
    "version": 3
   },
   "file_extension": ".py",
   "mimetype": "text/x-python",
   "name": "python",
   "nbconvert_exporter": "python",
   "pygments_lexer": "ipython3",
   "version": "3.7.4"
  }
 },
 "nbformat": 4,
 "nbformat_minor": 2
}
