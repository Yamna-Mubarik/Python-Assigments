{
 "cells": [
  {
   "cell_type": "code",
   "execution_count": 8,
   "metadata": {},
   "outputs": [
    {
     "name": "stdout",
     "output_type": "stream",
     "text": [
      "Enter marks of subject 1 : 80\n",
      "Enter marks of subject 2 : 80\n",
      "Enter marks of subject 3 : 80\n",
      "Enter marks of subject 4 : 80\n",
      "Enter marks of subject 5 : 80\n",
      "your total marks are 400\n",
      "congratulations!! you have passed with A1 Grade\n"
     ]
    }
   ],
   "source": [
    "subj1=int(input(\"Enter marks of subject 1 : \"))\n",
    "subj2=int(input(\"Enter marks of subject 2 : \"))\n",
    "subj3=int(input(\"Enter marks of subject 3 : \"))\n",
    "subj4=int(input(\"Enter marks of subject 4 : \"))\n",
    "subj5=int(input(\"Enter marks of subject 5 : \"))\n",
    "total = int(subj1 + subj2 +subj3 + subj4 + subj5);\n",
    "print(\"your total marks are\" , total )\n",
    "if (total <= 500 and total >= 400):\n",
    "    print(\"congratulations!! you have passed with A1 Grade\");\n",
    "elif (total <= 399 and total >= 300):\n",
    "    print(\"congratulations!! you have passed with A Grade\");\n",
    "elif (total <= 299 and total >= 200):\n",
    "    print(\"Great efforts!! you have passed with B Grade\");\n",
    "elif (total <= 199 and total >= 100):\n",
    "    print(\"Good try!! you have passed with C Grade\");\n",
    "elif (total <= 99 and total >= 0):\n",
    "    print(\"Try hard next time!! you have scored D Grade\");\n",
    "else:\n",
    "    print(\"You have to enter score out of 100\")"
   ]
  },
  {
   "cell_type": "code",
   "execution_count": 9,
   "metadata": {},
   "outputs": [
    {
     "name": "stdout",
     "output_type": "stream",
     "text": [
      "Enter a number: 566\n",
      "566  is a even number\n"
     ]
    }
   ],
   "source": [
    "num1=int(input(\"Enter a number: \"))\n",
    "if (num1%2==0 or num1 ==0):\n",
    "    print(num1 ,\" is a even number\")\n",
    "else:\n",
    "    print(num1 ,\"is a odd number\")"
   ]
  },
  {
   "cell_type": "code",
   "execution_count": 10,
   "metadata": {},
   "outputs": [
    {
     "data": {
      "text/plain": [
       "5"
      ]
     },
     "execution_count": 10,
     "metadata": {},
     "output_type": "execute_result"
    }
   ],
   "source": [
    "names=[\"Sarah\",\"minahil\",\"karen\",\"wahab\",\"max\"]\n",
    "len(names)"
   ]
  },
  {
   "cell_type": "code",
   "execution_count": 11,
   "metadata": {},
   "outputs": [
    {
     "data": {
      "text/plain": [
       "36"
      ]
     },
     "execution_count": 11,
     "metadata": {},
     "output_type": "execute_result"
    }
   ],
   "source": [
    "numbers=[1,2,3,4,5,6,7,8]\n",
    "sum(numbers)"
   ]
  },
  {
   "cell_type": "code",
   "execution_count": 15,
   "metadata": {},
   "outputs": [
    {
     "data": {
      "text/plain": [
       "8"
      ]
     },
     "execution_count": 15,
     "metadata": {},
     "output_type": "execute_result"
    }
   ],
   "source": [
    "numbers=[1,2,3,4,5,6,7,8,0,0,0]\n",
    "max(numbers)"
   ]
  },
  {
   "cell_type": "code",
   "execution_count": 21,
   "metadata": {},
   "outputs": [
    {
     "name": "stdout",
     "output_type": "stream",
     "text": [
      "1\n",
      "1\n",
      "2\n",
      "3\n"
     ]
    }
   ],
   "source": [
    "a=[1,1,2,3,5,8,13,21,34,55,89]\n",
    "for i in a :\n",
    "    if i < 5:\n",
    "         print (i)"
   ]
  }
 ],
 "metadata": {},
 "nbformat": 4,
 "nbformat_minor": 2
}
